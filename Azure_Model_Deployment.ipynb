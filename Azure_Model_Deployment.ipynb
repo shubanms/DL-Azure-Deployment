{
  "cells": [
    {
      "cell_type": "markdown",
      "metadata": {
        "id": "hQiX6WLE88cR"
      },
      "source": [
        "# Install Azure side dependencies"
      ]
    },
    {
      "cell_type": "code",
      "execution_count": 2,
      "metadata": {
        "id": "7uJGGsVi7kAr"
      },
      "outputs": [],
      "source": [
        "%%capture\n",
        "!pip install azure-core\n",
        "!pip install azure-storage-blob\n",
        "!pip install fastapi"
      ]
    },
    {
      "cell_type": "markdown",
      "metadata": {
        "id": "CfycuXwA9BQ-"
      },
      "source": [
        "# Import packages"
      ]
    },
    {
      "cell_type": "code",
      "execution_count": 26,
      "metadata": {
        "id": "WX4YBvWc7P8C"
      },
      "outputs": [],
      "source": [
        "import pickle\n",
        "from io import BytesIO\n",
        "import h5py\n",
        "import numpy as np\n",
        "\n",
        "import tensorflow as tf\n",
        "from keras.models import load_model\n",
        "from azure.storage.blob import BlobServiceClient, BlobClient, ContainerClient"
      ]
    },
    {
      "cell_type": "markdown",
      "metadata": {
        "id": "1LUvJApA9Ott"
      },
      "source": [
        "# Declare Constants"
      ]
    },
    {
      "cell_type": "code",
      "execution_count": 34,
      "metadata": {
        "id": "AekBYMM27i2Z"
      },
      "outputs": [],
      "source": [
        "BLOB_STORAGE_CONNECTION_STRING = \" \"\n",
        "BLOB_CONTAINER_NAME = \" \"\n",
        "DEEP_LEARNING_MODEL_PATH = \"iris.h5\""
      ]
    },
    {
      "cell_type": "markdown",
      "metadata": {
        "id": "3oPB4KBEGFSU"
      },
      "source": [
        "# Function to load uploaded model from azure"
      ]
    },
    {
      "cell_type": "code",
      "execution_count": 28,
      "metadata": {
        "id": "zkzQHoCe9c2O"
      },
      "outputs": [],
      "source": [
        "def loadBlobModel(\n",
        "        filePath,\n",
        "        connectionString,\n",
        "        containerName\n",
        "):\n",
        "    blob_service_client = BlobServiceClient.from_connection_string(connectionString)\n",
        "\n",
        "    blob_client = blob_service_client.get_blob_client(container=containerName, blob=filePath)\n",
        "\n",
        "    blob_data = BytesIO()\n",
        "    blob_client.download_blob().download_to_stream(blob_data)\n",
        "    blob_data.seek(0)\n",
        "\n",
        "    with h5py.File(blob_data, 'r') as f:\n",
        "        loaded_model = tf.keras.models.load_model(f)\n",
        "\n",
        "    print(f\"Loaded model is {loaded_model.summary()}\")\n",
        "\n",
        "    return loaded_model"
      ]
    },
    {
      "cell_type": "markdown",
      "metadata": {
        "id": "IxQn-PgtdFaO"
      },
      "source": [
        "# Call the function to load the tensorflow model into the object instance of model"
      ]
    },
    {
      "cell_type": "code",
      "execution_count": 29,
      "metadata": {
        "colab": {
          "base_uri": "https://localhost:8080/"
        },
        "id": "V9ncRSxm_9D6",
        "outputId": "25fdde92-93ea-472e-9981-ac8e2b9fc1e6"
      },
      "outputs": [
        {
          "name": "stdout",
          "output_type": "stream",
          "text": [
            "Loaded model is <keras.src.engine.sequential.Sequential object at 0x7af40b70c610>\n"
          ]
        }
      ],
      "source": [
        "model = loadBlobModel(\n",
        "    DEEP_LEARNING_MODEL_PATH,\n",
        "    BLOB_STORAGE_CONNECTION_STRING,\n",
        "    BLOB_CONTAINER_NAME\n",
        ")"
      ]
    },
    {
      "cell_type": "markdown",
      "metadata": {
        "id": "KxPdFJDdcS-8"
      },
      "source": [
        "# Use loaded model to predict the class"
      ]
    },
    {
      "cell_type": "code",
      "execution_count": 32,
      "metadata": {
        "id": "C0GAT6bZc3qu"
      },
      "outputs": [],
      "source": [
        "encodedClasses = ['Iris-setosa', 'Iris-versicolor', 'Iris-virginica']"
      ]
    },
    {
      "cell_type": "code",
      "execution_count": 33,
      "metadata": {
        "colab": {
          "base_uri": "https://localhost:8080/"
        },
        "id": "mLaXLMzqAAdT",
        "outputId": "93a325c8-203a-498c-c6b6-b91a9d238e76"
      },
      "outputs": [
        {
          "name": "stdout",
          "output_type": "stream",
          "text": [
            "1/1 [==============================] - 0s 20ms/step\n",
            "Iris-setosa\n"
          ]
        }
      ],
      "source": [
        "input_values = np.array([[5.1, 3.5,\t1.4, 0.2]])\n",
        "\n",
        "predictions = model.predict(input_values)\n",
        "\n",
        "print(encodedClasses[np.argmax(predictions)])"
      ]
    },
    {
      "cell_type": "code",
      "execution_count": null,
      "metadata": {
        "id": "vJ8tCC9dcIMQ"
      },
      "outputs": [],
      "source": []
    }
  ],
  "metadata": {
    "colab": {
      "provenance": []
    },
    "kernelspec": {
      "display_name": "Python 3",
      "name": "python3"
    },
    "language_info": {
      "name": "python"
    }
  },
  "nbformat": 4,
  "nbformat_minor": 0
}
